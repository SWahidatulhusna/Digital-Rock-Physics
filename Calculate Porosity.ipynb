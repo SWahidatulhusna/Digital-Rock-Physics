{
 "cells": [
  {
   "cell_type": "code",
   "execution_count": 1,
   "metadata": {},
   "outputs": [],
   "source": [
    "import numpy as np\n",
    "import openpnm as op\n",
    "import porespy as ps\n",
    "import matplotlib.pyplot as plt\n",
    "np.set_printoptions(precision=4)\n",
    "np.random.seed(10)\n",
    "from mpl_toolkits import mplot3d\n",
    "%matplotlib inline\n",
    "ps.visualization.set_mpl_style()\n",
    "import scipy.ndimage as spim\n",
    "import matplotlib.pyplot as plt\n",
    "from porespy.filters import find_peaks, trim_saddle_points, trim_nearby_peaks\n",
    "from porespy.tools import randomize_colors\n",
    "from skimage.segmentation import watershed\n",
    "\n",
    "ps.settings.tqdm['disable'] = True\n",
    "ps.visualization.set_mpl_style()\n",
    "import imageio"
   ]
  },
  {
   "cell_type": "code",
   "execution_count": 2,
   "metadata": {},
   "outputs": [],
   "source": [
    "resolution = 2.25e-6\n",
    "name = 'Bentheimer'"
   ]
  },
  {
   "cell_type": "code",
   "execution_count": 4,
   "metadata": {},
   "outputs": [],
   "source": [
    "raw_file = np.fromfile(name+'.raw', dtype=np.uint8)\n",
    "im = (raw_file.reshape(1000,1000,1000))\n",
    "im = im==0;"
   ]
  },
  {
   "cell_type": "code",
   "execution_count": 5,
   "metadata": {},
   "outputs": [],
   "source": [
    "im=im[:500,:500,:500]"
   ]
  },
  {
   "cell_type": "code",
   "execution_count": 12,
   "metadata": {},
   "outputs": [],
   "source": [
    "net = ps.networks.snow2(im, voxel_size=resolution)"
   ]
  },
  {
   "cell_type": "code",
   "execution_count": 13,
   "metadata": {},
   "outputs": [
    {
     "name": "stdout",
     "output_type": "stream",
     "text": [
      "\n",
      "══════════════════════════════════════════════════════════════════════════════\n",
      "net : <openpnm.network.Network at 0x22abf17ddb0>\n",
      "――――――――――――――――――――――――――――――――――――――――――――――――――――――――――――――――――――――――――――――\n",
      "  #  Properties                                                   Valid Values\n",
      "――――――――――――――――――――――――――――――――――――――――――――――――――――――――――――――――――――――――――――――\n",
      "  2  throat.conns                                                10663 / 10663\n",
      "  3  pore.coords                                                   6466 / 6466\n",
      "  4  pore.region_label                                             6466 / 6466\n",
      "  5  pore.phase                                                    6466 / 6466\n",
      "  6  throat.phases                                               10663 / 10663\n",
      "  7  pore.region_volume                                            6466 / 6466\n",
      "  8  pore.equivalent_diameter                                      6466 / 6466\n",
      "  9  pore.local_peak                                               6466 / 6466\n",
      " 10  pore.global_peak                                              6466 / 6466\n",
      " 11  pore.geometric_centroid                                       6466 / 6466\n",
      " 12  throat.global_peak                                          10663 / 10663\n",
      " 13  pore.inscribed_diameter                                       6466 / 6466\n",
      " 14  pore.extended_diameter                                        6466 / 6466\n",
      " 15  throat.inscribed_diameter                                   10663 / 10663\n",
      " 16  throat.total_length                                         10663 / 10663\n",
      " 17  throat.direct_length                                        10663 / 10663\n",
      " 18  throat.perimeter                                            10663 / 10663\n",
      " 19  pore.volume                                                   6466 / 6466\n",
      " 20  pore.surface_area                                             6466 / 6466\n",
      " 21  throat.cross_sectional_area                                 10663 / 10663\n",
      " 22  throat.equivalent_diameter                                  10663 / 10663\n",
      "――――――――――――――――――――――――――――――――――――――――――――――――――――――――――――――――――――――――――――――\n",
      "  #  Labels                                                 Assigned Locations\n",
      "――――――――――――――――――――――――――――――――――――――――――――――――――――――――――――――――――――――――――――――\n",
      "  2  pore.all                                                             6466\n",
      "  3  throat.all                                                          10663\n",
      "  4  pore.boundary                                                        1190\n",
      "  5  pore.xmin                                                             219\n",
      "  6  pore.xmax                                                             210\n",
      "  7  pore.ymin                                                             205\n",
      "  8  pore.ymax                                                             192\n",
      "  9  pore.zmin                                                             190\n",
      " 10  pore.zmax                                                             174\n",
      "――――――――――――――――――――――――――――――――――――――――――――――――――――――――――――――――――――――――――――――\n"
     ]
    }
   ],
   "source": [
    "pn = op.io.network_from_porespy(net.network)\n",
    "print(pn)"
   ]
  },
  {
   "cell_type": "code",
   "execution_count": 18,
   "metadata": {},
   "outputs": [],
   "source": [
    "pn.add_model_collection(op.models.collections.geometry.cubes_and_cuboids)\n",
    "pn.regenerate_models()\n",
    "op.topotools.label_faces(pn, label='surface')"
   ]
  },
  {
   "cell_type": "code",
   "execution_count": 20,
   "metadata": {},
   "outputs": [
    {
     "name": "stdout",
     "output_type": "stream",
     "text": [
      "――――――――――――――――――――――――――――――――――――――――――――――――――――――――――――――――――――――――――――――\n",
      "Key                                 Value\n",
      "――――――――――――――――――――――――――――――――――――――――――――――――――――――――――――――――――――――――――――――\n",
      "headless_throats                    []\n",
      "looped_throats                      []\n",
      "isolated_pores                      []\n",
      "disconnected_pores                  [0, 8, 12, 22, 25, 138, 139, 170, 183, 184, 188, 189, 194, 198, 215, 217, 218, 230, 247, 250, 269, 282, 286, 302, 311, 316, 342, 351, 352, 353, 365, 375, 377, 384, 407, 412, 417, 430, 431, 439, 450, 451, 459, 460, 462, 470, 477, 491, 497, 529, 543, 552, 553, 574, 586, 587, 603, 604, 605, 616, 617, 618, 635, 636, 644, 646, 647, 656, 657, 658, 659, 672, 673, 674, 683, 693, 694, 695, 707, 727, 749, 760, 775, 776, 783, 791, 799, 823, 923, 924, 931, 960, 980, 990, 1021, 1044, 1057, 1130, 1137, 1191, 1200, 1213, 1233, 1235, 1252, 1280, 1291, 1388, 1402, 1485, 1588, 1660, 1995, 2012, 2013, 2050, 2089, 2123, 2211, 2212, 2220, 2232, 2340, 2350, 2358, 2494, 2641, 2660, 2730, 2748, 2788, 2823, 2825, 2832, 2833, 2835, 2912, 2913, 2928, 2943, 2962, 2974, 3046, 3055, 3063, 3066, 3097, 3132, 3203, 3211, 3250, 3314, 3315, 3359, 3371, 3425, 3464, 3541, 3597, 3653, 3898, 3924, 3939, 4017, 4018, 4052, 4073, 4114, 4121, 4129, 4149, 4177, 4178, 4202, 4208, 4231, 4261, 4271, 4478, 4499, 4552, 4612, 4678, 4679, 4680, 4928, 4937, 4940, 4941, 4958, 4959, 4967, 4971, 5134, 5147, 5151, 5154, 5159, 5162, 5178, 5193, 5199, 5202, 5211, 5214, 5216, 5226, 5235, 5242, 5252, 5266, 5281, 5284, 5296, 5325, 5342, 5344, 5356, 5384, 5385, 5387, 5402, 5475, 5501, 5548, 5576, 5578, 5603, 5606, 5642, 5649, 5704, 5709, 5733, 5739, 5740, 5754, 5794, 5799, 5801, 5813, 5826, 5830, 5848, 5852, 5855, 5891, 5901, 5934, 6058, 6114, 6115, 6116, 6118, 6148]\n",
      "duplicate_throats                   []\n",
      "bidirectional_throats               []\n",
      "――――――――――――――――――――――――――――――――――――――――――――――――――――――――――――――――――――――――――――――\n"
     ]
    }
   ],
   "source": [
    "h = op.utils.check_network_health(pn)\n",
    "op.topotools.trim(network=pn, pores=h['isolated_pores'])\n",
    "print(h)"
   ]
  },
  {
   "cell_type": "code",
   "execution_count": 22,
   "metadata": {},
   "outputs": [
    {
     "name": "stdout",
     "output_type": "stream",
     "text": [
      "――――――――――――――――――――――――――――――――――――――――――――――――――――――――――――――――――――――――――――――\n",
      "Key                                 Value\n",
      "――――――――――――――――――――――――――――――――――――――――――――――――――――――――――――――――――――――――――――――\n",
      "headless_throats                    []\n",
      "looped_throats                      []\n",
      "isolated_pores                      []\n",
      "disconnected_pores                  []\n",
      "duplicate_throats                   []\n",
      "bidirectional_throats               []\n",
      "――――――――――――――――――――――――――――――――――――――――――――――――――――――――――――――――――――――――――――――\n"
     ]
    }
   ],
   "source": [
    "h = op.utils.check_network_health(pn)\n",
    "op.topotools.trim(network=pn, pores=h['disconnected_pores'])\n",
    "print(h)"
   ]
  },
  {
   "cell_type": "code",
   "execution_count": 23,
   "metadata": {},
   "outputs": [
    {
     "name": "stdout",
     "output_type": "stream",
     "text": [
      "\n",
      "══════════════════════════════════════════════════════════════════════════════\n",
      "net : <openpnm.network.Network at 0x22abf17ddb0>\n",
      "――――――――――――――――――――――――――――――――――――――――――――――――――――――――――――――――――――――――――――――\n",
      "  #  Properties                                                   Valid Values\n",
      "――――――――――――――――――――――――――――――――――――――――――――――――――――――――――――――――――――――――――――――\n",
      "  2  throat.conns                                                10478 / 10478\n",
      "  3  pore.coords                                                   5895 / 5895\n",
      "  4  pore.region_label                                             5895 / 5895\n",
      "  5  pore.phase                                                    5895 / 5895\n",
      "  6  throat.phases                                               10478 / 10478\n",
      "  7  pore.region_volume                                            5895 / 5895\n",
      "  8  pore.equivalent_diameter                                      5895 / 5895\n",
      "  9  pore.local_peak                                               5895 / 5895\n",
      " 10  pore.global_peak                                              5895 / 5895\n",
      " 11  pore.geometric_centroid                                       5895 / 5895\n",
      " 12  throat.global_peak                                          10478 / 10478\n",
      " 13  pore.inscribed_diameter                                       5895 / 5895\n",
      " 14  pore.extended_diameter                                        5895 / 5895\n",
      " 15  throat.inscribed_diameter                                   10478 / 10478\n",
      " 16  throat.total_length                                         10478 / 10478\n",
      " 17  throat.direct_length                                        10478 / 10478\n",
      " 18  throat.perimeter                                            10478 / 10478\n",
      " 19  pore.volume                                                   5895 / 5895\n",
      " 20  pore.surface_area                                             5895 / 5895\n",
      " 21  throat.cross_sectional_area                                 10478 / 10478\n",
      " 22  throat.equivalent_diameter                                  10478 / 10478\n",
      " 23  pore.coordination_number                                      5895 / 5895\n",
      " 24  pore.max_size                                                 5895 / 5895\n",
      " 25  throat.spacing                                              10478 / 10478\n",
      " 26  pore.seed                                                     5895 / 5895\n",
      " 27  pore.diameter                                                 5895 / 5895\n",
      " 28  throat.max_size                                             10478 / 10478\n",
      " 29  throat.diameter                                             10478 / 10478\n",
      " 30  throat.hydraulic_size_factors                               10478 / 10478\n",
      " 31  throat.diffusive_size_factors                               10478 / 10478\n",
      " 32  throat.length                                               10478 / 10478\n",
      " 33  throat.volume                                               10478 / 10478\n",
      "――――――――――――――――――――――――――――――――――――――――――――――――――――――――――――――――――――――――――――――\n",
      "  #  Labels                                                 Assigned Locations\n",
      "――――――――――――――――――――――――――――――――――――――――――――――――――――――――――――――――――――――――――――――\n",
      "  2  pore.all                                                             5895\n",
      "  3  throat.all                                                          10478\n",
      "  4  pore.boundary                                                        1126\n",
      "  5  pore.xmin                                                             210\n",
      "  6  pore.xmax                                                             204\n",
      "  7  pore.ymin                                                             186\n",
      "  8  pore.ymax                                                             176\n",
      "  9  pore.zmin                                                             179\n",
      " 10  pore.zmax                                                             171\n",
      " 11  pore.surface                                                         1169\n",
      " 12  pore.left                                                             210\n",
      " 13  pore.right                                                            204\n",
      " 14  pore.front                                                            186\n",
      " 15  pore.back                                                             176\n",
      " 16  pore.top                                                              171\n",
      " 17  pore.bottom                                                           179\n",
      "――――――――――――――――――――――――――――――――――――――――――――――――――――――――――――――――――――――――――――――\n"
     ]
    }
   ],
   "source": [
    "print(pn)"
   ]
  },
  {
   "cell_type": "code",
   "execution_count": 24,
   "metadata": {},
   "outputs": [
    {
     "data": {
      "text/html": [
       "<pre style=\"white-space:pre;overflow-x:auto;line-height:normal;font-family:Menlo,'DejaVu Sans Mono',consolas,'Courier New',monospace\"><span style=\"color: #7fbfbf; text-decoration-color: #7fbfbf\">[22:42:43] </span><span style=\"color: #800000; text-decoration-color: #800000\">WARNING </span> Attempting to estimate inlet area<span style=\"color: #808000; text-decoration-color: #808000\">...</span>will be low                              <a href=\"file://c:\\Users\\Sabda\\anaconda3\\envs\\pg\\lib\\site-packages\\openpnm\\topotools\\_topotools.py\" target=\"_blank\"><span style=\"color: #7f7f7f; text-decoration-color: #7f7f7f\">_topotools.py</span></a><span style=\"color: #7f7f7f; text-decoration-color: #7f7f7f\">:</span><a href=\"file://c:\\Users\\Sabda\\anaconda3\\envs\\pg\\lib\\site-packages\\openpnm\\topotools\\_topotools.py#1033\" target=\"_blank\"><span style=\"color: #7f7f7f; text-decoration-color: #7f7f7f\">1033</span></a>\n",
       "</pre>\n"
      ],
      "text/plain": [
       "\u001b[2;36m[22:42:43]\u001b[0m\u001b[2;36m \u001b[0m\u001b[31mWARNING \u001b[0m Attempting to estimate inlet area\u001b[33m...\u001b[0mwill be low                              \u001b]8;id=400098;file://c:\\Users\\Sabda\\anaconda3\\envs\\pg\\lib\\site-packages\\openpnm\\topotools\\_topotools.py\u001b\\\u001b[2m_topotools.py\u001b[0m\u001b]8;;\u001b\\\u001b[2m:\u001b[0m\u001b]8;id=623282;file://c:\\Users\\Sabda\\anaconda3\\envs\\pg\\lib\\site-packages\\openpnm\\topotools\\_topotools.py#1033\u001b\\\u001b[2m1033\u001b[0m\u001b]8;;\u001b\\\n"
      ]
     },
     "metadata": {},
     "output_type": "display_data"
    },
    {
     "data": {
      "text/html": [
       "<pre style=\"white-space:pre;overflow-x:auto;line-height:normal;font-family:Menlo,'DejaVu Sans Mono',consolas,'Courier New',monospace\"><span style=\"color: #7fbfbf; text-decoration-color: #7fbfbf\">           </span><span style=\"color: #800000; text-decoration-color: #800000; font-weight: bold\">ERROR   </span> Inlet and outlet faces are different area                                    <a href=\"file://c:\\Users\\Sabda\\anaconda3\\envs\\pg\\lib\\site-packages\\openpnm\\topotools\\_topotools.py\" target=\"_blank\"><span style=\"color: #7f7f7f; text-decoration-color: #7f7f7f\">_topotools.py</span></a><span style=\"color: #7f7f7f; text-decoration-color: #7f7f7f\">:</span><a href=\"file://c:\\Users\\Sabda\\anaconda3\\envs\\pg\\lib\\site-packages\\openpnm\\topotools\\_topotools.py#1051\" target=\"_blank\"><span style=\"color: #7f7f7f; text-decoration-color: #7f7f7f\">1051</span></a>\n",
       "</pre>\n"
      ],
      "text/plain": [
       "\u001b[2;36m          \u001b[0m\u001b[2;36m \u001b[0m\u001b[1;31mERROR   \u001b[0m Inlet and outlet faces are different area                                    \u001b]8;id=275094;file://c:\\Users\\Sabda\\anaconda3\\envs\\pg\\lib\\site-packages\\openpnm\\topotools\\_topotools.py\u001b\\\u001b[2m_topotools.py\u001b[0m\u001b]8;;\u001b\\\u001b[2m:\u001b[0m\u001b]8;id=45077;file://c:\\Users\\Sabda\\anaconda3\\envs\\pg\\lib\\site-packages\\openpnm\\topotools\\_topotools.py#1051\u001b\\\u001b[2m1051\u001b[0m\u001b]8;;\u001b\\\n"
      ]
     },
     "metadata": {},
     "output_type": "display_data"
    },
    {
     "data": {
      "text/html": [
       "<pre style=\"white-space:pre;overflow-x:auto;line-height:normal;font-family:Menlo,'DejaVu Sans Mono',consolas,'Courier New',monospace\"><span style=\"color: #7fbfbf; text-decoration-color: #7fbfbf\">           </span><span style=\"color: #800000; text-decoration-color: #800000\">WARNING </span> Attempting to estimate domain length<span style=\"color: #808000; text-decoration-color: #808000\">...</span>could be low if boundary pores were   <a href=\"file://c:\\Users\\Sabda\\anaconda3\\envs\\pg\\lib\\site-packages\\openpnm\\topotools\\_topotools.py\" target=\"_blank\"><span style=\"color: #7f7f7f; text-decoration-color: #7f7f7f\">_topotools.py</span></a><span style=\"color: #7f7f7f; text-decoration-color: #7f7f7f\">:</span><a href=\"file://c:\\Users\\Sabda\\anaconda3\\envs\\pg\\lib\\site-packages\\openpnm\\topotools\\_topotools.py#1077\" target=\"_blank\"><span style=\"color: #7f7f7f; text-decoration-color: #7f7f7f\">1077</span></a>\n",
       "<span style=\"color: #7fbfbf; text-decoration-color: #7fbfbf\">           </span>         not added                                                                    <span style=\"color: #7f7f7f; text-decoration-color: #7f7f7f\">                  </span>\n",
       "</pre>\n"
      ],
      "text/plain": [
       "\u001b[2;36m          \u001b[0m\u001b[2;36m \u001b[0m\u001b[31mWARNING \u001b[0m Attempting to estimate domain length\u001b[33m...\u001b[0mcould be low if boundary pores were   \u001b]8;id=813610;file://c:\\Users\\Sabda\\anaconda3\\envs\\pg\\lib\\site-packages\\openpnm\\topotools\\_topotools.py\u001b\\\u001b[2m_topotools.py\u001b[0m\u001b]8;;\u001b\\\u001b[2m:\u001b[0m\u001b]8;id=130787;file://c:\\Users\\Sabda\\anaconda3\\envs\\pg\\lib\\site-packages\\openpnm\\topotools\\_topotools.py#1077\u001b\\\u001b[2m1077\u001b[0m\u001b]8;;\u001b\\\n",
       "\u001b[2;36m           \u001b[0m         not added                                                                    \u001b[2m                  \u001b[0m\n"
      ]
     },
     "metadata": {},
     "output_type": "display_data"
    },
    {
     "data": {
      "text/html": [
       "<pre style=\"white-space:pre;overflow-x:auto;line-height:normal;font-family:Menlo,'DejaVu Sans Mono',consolas,'Courier New',monospace\"><span style=\"color: #7fbfbf; text-decoration-color: #7fbfbf\">           </span><span style=\"color: #800000; text-decoration-color: #800000; font-weight: bold\">ERROR   </span> A unique value of length could not be found                                  <a href=\"file://c:\\Users\\Sabda\\anaconda3\\envs\\pg\\lib\\site-packages\\openpnm\\topotools\\_topotools.py\" target=\"_blank\"><span style=\"color: #7f7f7f; text-decoration-color: #7f7f7f\">_topotools.py</span></a><span style=\"color: #7f7f7f; text-decoration-color: #7f7f7f\">:</span><a href=\"file://c:\\Users\\Sabda\\anaconda3\\envs\\pg\\lib\\site-packages\\openpnm\\topotools\\_topotools.py#1087\" target=\"_blank\"><span style=\"color: #7f7f7f; text-decoration-color: #7f7f7f\">1087</span></a>\n",
       "</pre>\n"
      ],
      "text/plain": [
       "\u001b[2;36m          \u001b[0m\u001b[2;36m \u001b[0m\u001b[1;31mERROR   \u001b[0m A unique value of length could not be found                                  \u001b]8;id=908640;file://c:\\Users\\Sabda\\anaconda3\\envs\\pg\\lib\\site-packages\\openpnm\\topotools\\_topotools.py\u001b\\\u001b[2m_topotools.py\u001b[0m\u001b]8;;\u001b\\\u001b[2m:\u001b[0m\u001b]8;id=390363;file://c:\\Users\\Sabda\\anaconda3\\envs\\pg\\lib\\site-packages\\openpnm\\topotools\\_topotools.py#1087\u001b\\\u001b[2m1087\u001b[0m\u001b]8;;\u001b\\\n"
      ]
     },
     "metadata": {},
     "output_type": "display_data"
    },
    {
     "name": "stdout",
     "output_type": "stream",
     "text": [
      "The value of Porosity is: 0.08\n"
     ]
    }
   ],
   "source": [
    "Vol_void = np.sum(pn['pore.volume'])+np.sum(pn['throat.volume'])\n",
    "inlet = pn.pores('left')\n",
    "outlet = pn.pores('right')\n",
    "A = op.topotools.get_domain_area(pn, inlets=inlet, outlets=outlet)\n",
    "L = op.topotools.get_domain_length(pn, inlets=inlet, outlets=outlet)\n",
    "Vol_bulk = A * L\n",
    "Poro = Vol_void / Vol_bulk\n",
    "print(f'The value of Porosity is: {Poro:.2f}')\n"
   ]
  },
  {
   "cell_type": "code",
   "execution_count": 25,
   "metadata": {},
   "outputs": [],
   "source": [
    "pn.add_model_collection(op.models.collections.geometry.spheres_and_cylinders)\n",
    "pn.regenerate_models()"
   ]
  },
  {
   "cell_type": "code",
   "execution_count": 26,
   "metadata": {},
   "outputs": [
    {
     "name": "stdout",
     "output_type": "stream",
     "text": [
      "Initial Porosity: 0.04603\n",
      "Corrected Porosity: 0.04567\n"
     ]
    }
   ],
   "source": [
    "Vol_void_initial = np.sum(pn['pore.volume'])+np.sum(pn['throat.total_volume'])\n",
    "Vol_void_corrected = np.sum(pn['pore.volume'])+np.sum(pn['throat.volume'])\n",
    "Poro_initial = Vol_void_initial / Vol_bulk\n",
    "Poro_corrected = Vol_void_corrected / Vol_bulk\n",
    "print(f'Initial Porosity: {Poro_initial:.5f}')\n",
    "print(f'Corrected Porosity: {Poro_corrected:.5f}')"
   ]
  },
  {
   "cell_type": "code",
   "execution_count": 33,
   "metadata": {},
   "outputs": [
    {
     "name": "stdout",
     "output_type": "stream",
     "text": [
      "Porosity from image: 21.2%\n"
     ]
    }
   ],
   "source": [
    "im_poro = ps.metrics.porosity(im)\n",
    "print(f\"Porosity from image: {im_poro*100:.1f}%\")"
   ]
  },
  {
   "cell_type": "code",
   "execution_count": 28,
   "metadata": {},
   "outputs": [],
   "source": [
    "snow = ps.networks.snow2(im, boundary_width = 0)\n",
    "network = snow.network\n",
    "pn = op.io.network_from_porespy(network)\n",
    "pn['pore.diameter']=network['pore.inscribed_diameter']\n",
    "pn['throat.diameter']=network['throat.inscribed_diameter']\n",
    "model=op.models.geometry.throat_length.cubes_and_cuboids\n",
    "pn.add_model(propname='throat.length',\n",
    "             model=model,\n",
    "             regen_mode='normal')\n",
    "model=op.models.geometry.pore_volume.cube\n",
    "pn.add_model(propname='pore.volume',\n",
    "             model=model,\n",
    "             regen_mode='normal')\n",
    "model=op.models.geometry.throat_volume.cuboid\n",
    "pn.add_model(propname='throat.volume',\n",
    "             model=model,\n",
    "             regen_mode='normal')\n",
    "pn.regenerate_models()"
   ]
  },
  {
   "cell_type": "code",
   "execution_count": 32,
   "metadata": {},
   "outputs": [
    {
     "name": "stdout",
     "output_type": "stream",
     "text": [
      "Porosity from pnm: 15.0%\n"
     ]
    }
   ],
   "source": [
    "Vol_void = np.sum(pn['pore.volume'])+np.sum(pn['throat.volume'])\n",
    "Vol_bulk = 500**3 #from dimensionality data\n",
    "pnm_poro = Vol_void / Vol_bulk\n",
    "print(f\"Porosity from pnm: {pnm_poro*100:.1f}%\")"
   ]
  }
 ],
 "metadata": {
  "kernelspec": {
   "display_name": "pg",
   "language": "python",
   "name": "python3"
  },
  "language_info": {
   "codemirror_mode": {
    "name": "ipython",
    "version": 3
   },
   "file_extension": ".py",
   "mimetype": "text/x-python",
   "name": "python",
   "nbconvert_exporter": "python",
   "pygments_lexer": "ipython3",
   "version": "3.8.13"
  },
  "orig_nbformat": 4,
  "vscode": {
   "interpreter": {
    "hash": "bb34fc36952a94c64f66494f101b4fb69e6f2bd287473e24e7005d3182078976"
   }
  }
 },
 "nbformat": 4,
 "nbformat_minor": 2
}
