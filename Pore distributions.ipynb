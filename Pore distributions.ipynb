{
 "cells": [
  {
   "cell_type": "code",
   "execution_count": 1,
   "metadata": {},
   "outputs": [],
   "source": [
    "import imageio\n",
    "import numpy as np\n",
    "import porespy as ps\n",
    "import openpnm as op\n",
    "import scipy.ndimage as spim\n",
    "import matplotlib.pyplot as plt\n",
    "from porespy.filters import find_peaks, trim_saddle_points, trim_nearby_peaks\n",
    "from porespy.tools import randomize_colors\n",
    "from skimage.segmentation import watershed\n",
    "\n",
    "ps.settings.tqdm['disable'] = True\n",
    "ps.visualization.set_mpl_style()\n",
    "np.random.seed(10)"
   ]
  },
  {
   "cell_type": "code",
   "execution_count": 2,
   "metadata": {},
   "outputs": [],
   "source": [
    "resolution = 2.25e-6\n",
    "name = 'Bentheimer'"
   ]
  },
  {
   "cell_type": "code",
   "execution_count": 3,
   "metadata": {},
   "outputs": [
    {
     "ename": "FileNotFoundError",
     "evalue": "[Errno 2] No such file or directory: 'Bentheimer.raw'",
     "output_type": "error",
     "traceback": [
      "\u001b[1;31m---------------------------------------------------------------------------\u001b[0m",
      "\u001b[1;31mFileNotFoundError\u001b[0m                         Traceback (most recent call last)",
      "Cell \u001b[1;32mIn [3], line 2\u001b[0m\n\u001b[0;32m      1\u001b[0m \u001b[39m# Read input RAW file\u001b[39;00m\n\u001b[1;32m----> 2\u001b[0m raw_file \u001b[39m=\u001b[39m np\u001b[39m.\u001b[39;49mfromfile(name\u001b[39m+\u001b[39;49m\u001b[39m'\u001b[39;49m\u001b[39m.raw\u001b[39;49m\u001b[39m'\u001b[39;49m, dtype\u001b[39m=\u001b[39;49mnp\u001b[39m.\u001b[39;49muint8)\n\u001b[0;32m      3\u001b[0m im \u001b[39m=\u001b[39m (raw_file\u001b[39m.\u001b[39mreshape(\u001b[39m1000\u001b[39m,\u001b[39m1000\u001b[39m,\u001b[39m1000\u001b[39m))\n\u001b[0;32m      4\u001b[0m im \u001b[39m=\u001b[39m im\u001b[39m==\u001b[39m\u001b[39m0\u001b[39m;\n",
      "\u001b[1;31mFileNotFoundError\u001b[0m: [Errno 2] No such file or directory: 'Bentheimer.raw'"
     ]
    }
   ],
   "source": [
    "# Read input RAW file\n",
    "raw_file = np.fromfile(name+'.raw', dtype=np.uint8)\n",
    "im = (raw_file.reshape(1000,1000,1000))\n",
    "im = im==0;\n",
    "im=im[:400,:400,:400]"
   ]
  }
 ],
 "metadata": {
  "kernelspec": {
   "display_name": "pg",
   "language": "python",
   "name": "python3"
  },
  "language_info": {
   "codemirror_mode": {
    "name": "ipython",
    "version": 3
   },
   "file_extension": ".py",
   "mimetype": "text/x-python",
   "name": "python",
   "nbconvert_exporter": "python",
   "pygments_lexer": "ipython3",
   "version": "3.8.13"
  },
  "orig_nbformat": 4,
  "vscode": {
   "interpreter": {
    "hash": "bb34fc36952a94c64f66494f101b4fb69e6f2bd287473e24e7005d3182078976"
   }
  }
 },
 "nbformat": 4,
 "nbformat_minor": 2
}
